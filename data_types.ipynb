{
  "nbformat": 4,
  "nbformat_minor": 0,
  "metadata": {
    "colab": {
      "name": "data types.ipynb",
      "provenance": [],
      "authorship_tag": "ABX9TyNlFjy23SFKg146SpeZQ78k",
      "include_colab_link": true
    },
    "kernelspec": {
      "name": "python3",
      "display_name": "Python 3"
    },
    "language_info": {
      "name": "python"
    }
  },
  "cells": [
    {
      "cell_type": "markdown",
      "metadata": {
        "id": "view-in-github",
        "colab_type": "text"
      },
      "source": [
        "<a href=\"https://colab.research.google.com/github/Agshinbayli/data_with_python/blob/main/data_types.ipynb\" target=\"_parent\"><img src=\"https://colab.research.google.com/assets/colab-badge.svg\" alt=\"Open In Colab\"/></a>"
      ]
    },
    {
      "cell_type": "code",
      "metadata": {
        "id": "t07kRL667bjH"
      },
      "source": [
        "n>30 z statistics\n",
        "n<30 t statistics"
      ],
      "execution_count": null,
      "outputs": []
    },
    {
      "cell_type": "code",
      "metadata": {
        "id": "NEL6lUHXGToF"
      },
      "source": [
        "#list"
      ],
      "execution_count": null,
      "outputs": []
    },
    {
      "cell_type": "code",
      "metadata": {
        "id": "l7uBO_Cu8Bkt"
      },
      "source": [
        "notes1=[90,80,80,90,89,98,90]"
      ],
      "execution_count": 66,
      "outputs": []
    },
    {
      "cell_type": "code",
      "metadata": {
        "colab": {
          "base_uri": "https://localhost:8080/"
        },
        "id": "qFwZLMRRAdSW",
        "outputId": "8f45b191-81a4-4c98-b4b4-4a9f3fb0f083"
      },
      "source": [
        "notes[0:3]"
      ],
      "execution_count": 10,
      "outputs": [
        {
          "output_type": "execute_result",
          "data": {
            "text/plain": [
              "[90, 80, 80]"
            ]
          },
          "metadata": {
            "tags": []
          },
          "execution_count": 10
        }
      ]
    },
    {
      "cell_type": "code",
      "metadata": {
        "colab": {
          "base_uri": "https://localhost:8080/"
        },
        "id": "_r7eX4f8CRNH",
        "outputId": "bd32f649-bfd7-4870-eba9-de1702171e13"
      },
      "source": [
        "notes[1]=\"changed\"\n",
        "notes"
      ],
      "execution_count": 14,
      "outputs": [
        {
          "output_type": "execute_result",
          "data": {
            "text/plain": [
              "[90, 'changed', 80, 90, 89, 98, 90]"
            ]
          },
          "metadata": {
            "tags": []
          },
          "execution_count": 14
        }
      ]
    },
    {
      "cell_type": "code",
      "metadata": {
        "colab": {
          "base_uri": "https://localhost:8080/"
        },
        "id": "jf5daTMJCZ4_",
        "outputId": "189a9396-1122-4c0d-f1fd-002ac334202c"
      },
      "source": [
        "notes + [\"aue\"]"
      ],
      "execution_count": 16,
      "outputs": [
        {
          "output_type": "execute_result",
          "data": {
            "text/plain": [
              "[90, 'changed', 80, 90, 89, 98, 90, 'aue']"
            ]
          },
          "metadata": {
            "tags": []
          },
          "execution_count": 16
        }
      ]
    },
    {
      "cell_type": "code",
      "metadata": {
        "colab": {
          "base_uri": "https://localhost:8080/"
        },
        "id": "EjtZ243wCovV",
        "outputId": "96ce8982-5599-41a0-fd5a-ab72d51060ff"
      },
      "source": [
        "notes"
      ],
      "execution_count": 17,
      "outputs": [
        {
          "output_type": "execute_result",
          "data": {
            "text/plain": [
              "[90, 'changed', 80, 90, 89, 98, 90]"
            ]
          },
          "metadata": {
            "tags": []
          },
          "execution_count": 17
        }
      ]
    },
    {
      "cell_type": "code",
      "metadata": {
        "id": "gnlbFvoACqGA"
      },
      "source": [
        "del notes[1]"
      ],
      "execution_count": 18,
      "outputs": []
    },
    {
      "cell_type": "code",
      "metadata": {
        "colab": {
          "base_uri": "https://localhost:8080/"
        },
        "id": "CoApp7GhCwIH",
        "outputId": "14ab7b0e-ef38-4df2-9fb0-f0e1362cf9cd"
      },
      "source": [
        "notes"
      ],
      "execution_count": 19,
      "outputs": [
        {
          "output_type": "execute_result",
          "data": {
            "text/plain": [
              "[90, 80, 90, 89, 98, 90]"
            ]
          },
          "metadata": {
            "tags": []
          },
          "execution_count": 19
        }
      ]
    },
    {
      "cell_type": "code",
      "metadata": {
        "colab": {
          "base_uri": "https://localhost:8080/"
        },
        "id": "SHwLz6TWC68p",
        "outputId": "7b72292f-d609-4f29-ad92-a57c0df75edb"
      },
      "source": [
        "dir(list)"
      ],
      "execution_count": 20,
      "outputs": [
        {
          "output_type": "execute_result",
          "data": {
            "text/plain": [
              "['__add__',\n",
              " '__class__',\n",
              " '__contains__',\n",
              " '__delattr__',\n",
              " '__delitem__',\n",
              " '__dir__',\n",
              " '__doc__',\n",
              " '__eq__',\n",
              " '__format__',\n",
              " '__ge__',\n",
              " '__getattribute__',\n",
              " '__getitem__',\n",
              " '__gt__',\n",
              " '__hash__',\n",
              " '__iadd__',\n",
              " '__imul__',\n",
              " '__init__',\n",
              " '__init_subclass__',\n",
              " '__iter__',\n",
              " '__le__',\n",
              " '__len__',\n",
              " '__lt__',\n",
              " '__mul__',\n",
              " '__ne__',\n",
              " '__new__',\n",
              " '__reduce__',\n",
              " '__reduce_ex__',\n",
              " '__repr__',\n",
              " '__reversed__',\n",
              " '__rmul__',\n",
              " '__setattr__',\n",
              " '__setitem__',\n",
              " '__sizeof__',\n",
              " '__str__',\n",
              " '__subclasshook__',\n",
              " 'append',\n",
              " 'clear',\n",
              " 'copy',\n",
              " 'count',\n",
              " 'extend',\n",
              " 'index',\n",
              " 'insert',\n",
              " 'pop',\n",
              " 'remove',\n",
              " 'reverse',\n",
              " 'sort']"
            ]
          },
          "metadata": {
            "tags": []
          },
          "execution_count": 20
        }
      ]
    },
    {
      "cell_type": "code",
      "metadata": {
        "colab": {
          "base_uri": "https://localhost:8080/"
        },
        "id": "0TsuQXuEC_pg",
        "outputId": "b1971576-4505-4c12-9739-b4d95755ffb0"
      },
      "source": [
        "notes.append(\"aue\")\n",
        "notes"
      ],
      "execution_count": 21,
      "outputs": [
        {
          "output_type": "execute_result",
          "data": {
            "text/plain": [
              "[90, 80, 90, 89, 98, 90, 'aue']"
            ]
          },
          "metadata": {
            "tags": []
          },
          "execution_count": 21
        }
      ]
    },
    {
      "cell_type": "code",
      "metadata": {
        "colab": {
          "base_uri": "https://localhost:8080/"
        },
        "id": "iuGxKCYRDTFJ",
        "outputId": "22559dab-8511-4395-90d2-e905ae3e5842"
      },
      "source": [
        "notes.insert(0,\"az\") #add new to the list with corresponding to the index\n",
        "notes"
      ],
      "execution_count": 23,
      "outputs": [
        {
          "output_type": "execute_result",
          "data": {
            "text/plain": [
              "['az', 'az', 90, 80, 90, 89, 98, 90, 'aue']"
            ]
          },
          "metadata": {
            "tags": []
          },
          "execution_count": 23
        }
      ]
    },
    {
      "cell_type": "code",
      "metadata": {
        "id": "KEerSZtiDTNn"
      },
      "source": [
        "notes.insert(len(notes),\"aaaaaue\")"
      ],
      "execution_count": 34,
      "outputs": []
    },
    {
      "cell_type": "code",
      "metadata": {
        "colab": {
          "base_uri": "https://localhost:8080/"
        },
        "id": "OvFT8uD5DTkl",
        "outputId": "602cbb3b-faf2-4269-c7b4-3b981b9946bf"
      },
      "source": [
        "notes"
      ],
      "execution_count": 35,
      "outputs": [
        {
          "output_type": "execute_result",
          "data": {
            "text/plain": [
              "['az', 'az', 90, 80, 90, 89, 98, 90, 'aue', 'aaaaaue', 'aaaaaue', 'aaaaaue']"
            ]
          },
          "metadata": {
            "tags": []
          },
          "execution_count": 35
        }
      ]
    },
    {
      "cell_type": "code",
      "metadata": {
        "colab": {
          "base_uri": "https://localhost:8080/"
        },
        "id": "_pxSSGDoEaCo",
        "outputId": "c8920322-021d-43f0-f78a-2f9eb6928a30"
      },
      "source": [
        "notes.pop(-2) #remove something by index\n",
        "notes"
      ],
      "execution_count": 30,
      "outputs": [
        {
          "output_type": "execute_result",
          "data": {
            "text/plain": [
              "['az', 'az', 90, 80, 90, 89, 98, 90, 'aue', 'aaaaaue']"
            ]
          },
          "metadata": {
            "tags": []
          },
          "execution_count": 30
        }
      ]
    },
    {
      "cell_type": "code",
      "metadata": {
        "colab": {
          "base_uri": "https://localhost:8080/"
        },
        "id": "klsb7fEcEknH",
        "outputId": "78f78f3e-963f-4138-a818-0519e31e4bac"
      },
      "source": [
        "notes.count(\"az\")"
      ],
      "execution_count": 31,
      "outputs": [
        {
          "output_type": "execute_result",
          "data": {
            "text/plain": [
              "2"
            ]
          },
          "metadata": {
            "tags": []
          },
          "execution_count": 31
        }
      ]
    },
    {
      "cell_type": "code",
      "metadata": {
        "id": "J7tgIxJ9Ewk0"
      },
      "source": [
        "newnotes=notes.copy()"
      ],
      "execution_count": 32,
      "outputs": []
    },
    {
      "cell_type": "code",
      "metadata": {
        "id": "igBL7VCuE4As"
      },
      "source": [
        "newnotes.extend(notes)"
      ],
      "execution_count": 36,
      "outputs": []
    },
    {
      "cell_type": "code",
      "metadata": {
        "colab": {
          "base_uri": "https://localhost:8080/"
        },
        "id": "cuc1Xt4VFFQI",
        "outputId": "cae3a41f-00df-4a3e-f854-0e5284d14c74"
      },
      "source": [
        "newnotes"
      ],
      "execution_count": 37,
      "outputs": [
        {
          "output_type": "execute_result",
          "data": {
            "text/plain": [
              "['az',\n",
              " 'az',\n",
              " 90,\n",
              " 80,\n",
              " 90,\n",
              " 89,\n",
              " 98,\n",
              " 90,\n",
              " 'aue',\n",
              " 'aaaaaue',\n",
              " 'az',\n",
              " 'az',\n",
              " 90,\n",
              " 80,\n",
              " 90,\n",
              " 89,\n",
              " 98,\n",
              " 90,\n",
              " 'aue',\n",
              " 'aaaaaue',\n",
              " 'aaaaaue',\n",
              " 'aaaaaue']"
            ]
          },
          "metadata": {
            "tags": []
          },
          "execution_count": 37
        }
      ]
    },
    {
      "cell_type": "code",
      "metadata": {
        "id": "4yC8BskMFJF0"
      },
      "source": [
        "newnotes.remove(\"aue\")"
      ],
      "execution_count": 59,
      "outputs": []
    },
    {
      "cell_type": "code",
      "metadata": {
        "colab": {
          "base_uri": "https://localhost:8080/"
        },
        "id": "9nd2ebLCFWhr",
        "outputId": "6802ce08-200e-40be-9585-7b91b3211804"
      },
      "source": [
        "newnotes"
      ],
      "execution_count": 88,
      "outputs": [
        {
          "output_type": "execute_result",
          "data": {
            "text/plain": [
              "['aaaaaue',\n",
              " 'aaaaaue',\n",
              " 'aaaaaue',\n",
              " 'aue',\n",
              " 98,\n",
              " 89,\n",
              " 80,\n",
              " 'az',\n",
              " 'az',\n",
              " 'aaaaaue',\n",
              " 98,\n",
              " 89,\n",
              " 80]"
            ]
          },
          "metadata": {
            "tags": []
          },
          "execution_count": 88
        }
      ]
    },
    {
      "cell_type": "code",
      "metadata": {
        "id": "9oF2q-1DF0uL"
      },
      "source": [
        ""
      ],
      "execution_count": null,
      "outputs": []
    },
    {
      "cell_type": "code",
      "metadata": {
        "colab": {
          "base_uri": "https://localhost:8080/"
        },
        "id": "uAXMS2OmFpow",
        "outputId": "26e58b02-7d2d-4102-b485-985d3b5d9555"
      },
      "source": [
        "newnotes.index(89)"
      ],
      "execution_count": 62,
      "outputs": [
        {
          "output_type": "execute_result",
          "data": {
            "text/plain": [
              "1"
            ]
          },
          "metadata": {
            "tags": []
          },
          "execution_count": 62
        }
      ]
    },
    {
      "cell_type": "code",
      "metadata": {
        "id": "csI4STsnFxNt"
      },
      "source": [
        "newnotes.reverse()"
      ],
      "execution_count": 63,
      "outputs": []
    },
    {
      "cell_type": "code",
      "metadata": {
        "colab": {
          "base_uri": "https://localhost:8080/"
        },
        "id": "2vi3kh1rF1jS",
        "outputId": "e5643f1d-943f-4599-f50a-ab17f8780640"
      },
      "source": [
        "notes1.sort()\n",
        "notes1"
      ],
      "execution_count": 70,
      "outputs": [
        {
          "output_type": "execute_result",
          "data": {
            "text/plain": [
              "[80, 80, 89, 90, 90, 90, 98]"
            ]
          },
          "metadata": {
            "tags": []
          },
          "execution_count": 70
        }
      ]
    },
    {
      "cell_type": "code",
      "metadata": {
        "colab": {
          "base_uri": "https://localhost:8080/"
        },
        "id": "sV9w5GmDF5xc",
        "outputId": "7398436d-fa62-4537-8496-82ea0715cd12"
      },
      "source": [
        "notes1"
      ],
      "execution_count": 68,
      "outputs": [
        {
          "output_type": "execute_result",
          "data": {
            "text/plain": [
              "[80, 80, 89, 90, 90, 90, 98]"
            ]
          },
          "metadata": {
            "tags": []
          },
          "execution_count": 68
        }
      ]
    },
    {
      "cell_type": "code",
      "metadata": {
        "id": "oOyOUcxNGMtN"
      },
      "source": [
        "#tupple - siraldir, degishtirilenmez  () - tupple, []- list"
      ],
      "execution_count": null,
      "outputs": []
    },
    {
      "cell_type": "markdown",
      "metadata": {
        "id": "DvTP6n4gNgs-"
      },
      "source": [
        "#tupple - siraldir, degishtirilenmez  () - tupple, []- list"
      ]
    },
    {
      "cell_type": "code",
      "metadata": {
        "id": "1aFkFtjdGNt5"
      },
      "source": [
        "tupple=(\"ali\", \"vali\",1,2,34,5,6,6,7)"
      ],
      "execution_count": 71,
      "outputs": []
    },
    {
      "cell_type": "code",
      "metadata": {
        "id": "cZ18_CROGR_b"
      },
      "source": [
        "tuppl1e=\"ali\", \"vali\",[1,2,34,5,6,6,7]"
      ],
      "execution_count": 72,
      "outputs": []
    },
    {
      "cell_type": "code",
      "metadata": {
        "colab": {
          "base_uri": "https://localhost:8080/",
          "height": 35
        },
        "id": "pO6S9HdXG63w",
        "outputId": "e5742639-2adb-4c4d-f357-9023c26a2199"
      },
      "source": [
        "tupple[1]"
      ],
      "execution_count": 74,
      "outputs": [
        {
          "output_type": "execute_result",
          "data": {
            "application/vnd.google.colaboratory.intrinsic+json": {
              "type": "string"
            },
            "text/plain": [
              "'vali'"
            ]
          },
          "metadata": {
            "tags": []
          },
          "execution_count": 74
        }
      ]
    },
    {
      "cell_type": "code",
      "metadata": {
        "colab": {
          "base_uri": "https://localhost:8080/"
        },
        "id": "hLKKNb1CHUKS",
        "outputId": "0e95d4a1-cad5-4e70-899d-15beb83e15a7"
      },
      "source": [
        "a=list(tupple)\n",
        "a"
      ],
      "execution_count": 75,
      "outputs": [
        {
          "output_type": "execute_result",
          "data": {
            "text/plain": [
              "['ali', 'vali', 1, 2, 34, 5, 6, 6, 7]"
            ]
          },
          "metadata": {
            "tags": []
          },
          "execution_count": 75
        }
      ]
    },
    {
      "cell_type": "code",
      "metadata": {
        "colab": {
          "base_uri": "https://localhost:8080/"
        },
        "id": "RI5sLKpSHRsr",
        "outputId": "03df1f5d-6eed-425f-8a50-c64d86d7000f"
      },
      "source": [
        "a[1]=\"I am smart\"\n",
        "a"
      ],
      "execution_count": 76,
      "outputs": [
        {
          "output_type": "execute_result",
          "data": {
            "text/plain": [
              "['ali', 'I am smart', 1, 2, 34, 5, 6, 6, 7]"
            ]
          },
          "metadata": {
            "tags": []
          },
          "execution_count": 76
        }
      ]
    },
    {
      "cell_type": "code",
      "metadata": {
        "colab": {
          "base_uri": "https://localhost:8080/"
        },
        "id": "HLFulMcfHoLo",
        "outputId": "4e642369-5df9-4524-f732-2596075b7d16"
      },
      "source": [
        "tupple=tuple(a)\n",
        "tupple"
      ],
      "execution_count": 77,
      "outputs": [
        {
          "output_type": "execute_result",
          "data": {
            "text/plain": [
              "('ali', 'I am smart', 1, 2, 34, 5, 6, 6, 7)"
            ]
          },
          "metadata": {
            "tags": []
          },
          "execution_count": 77
        }
      ]
    },
    {
      "cell_type": "code",
      "metadata": {
        "colab": {
          "base_uri": "https://localhost:8080/"
        },
        "id": "DG43jVtzHwK6",
        "outputId": "f7ec9e4d-c927-40f3-a033-b70a5e1599b6"
      },
      "source": [
        "type(tupple)"
      ],
      "execution_count": 78,
      "outputs": [
        {
          "output_type": "execute_result",
          "data": {
            "text/plain": [
              "tuple"
            ]
          },
          "metadata": {
            "tags": []
          },
          "execution_count": 78
        }
      ]
    },
    {
      "cell_type": "markdown",
      "metadata": {
        "id": "Icrz0maNNjfZ"
      },
      "source": [
        "# dictionary -  sirasizdir, deyishdirilebilir"
      ]
    },
    {
      "cell_type": "code",
      "metadata": {
        "id": "R6XDM3zaIC9f"
      },
      "source": [
        "# dictionary -  sirasizdir, deyishdirilebilir"
      ],
      "execution_count": null,
      "outputs": []
    },
    {
      "cell_type": "code",
      "metadata": {
        "id": "8_f8R4OKILLd"
      },
      "source": [
        "diction={\"ali\":\"valinin oglu\", \"qasim\":\"pirveli ogli\", \"45\":\"86\"}"
      ],
      "execution_count": 79,
      "outputs": []
    },
    {
      "cell_type": "code",
      "metadata": {
        "colab": {
          "base_uri": "https://localhost:8080/"
        },
        "id": "kHVBHA7mIfSV",
        "outputId": "0be4a739-7109-4ed0-c14a-bf70e88e2774"
      },
      "source": [
        "diction"
      ],
      "execution_count": 80,
      "outputs": [
        {
          "output_type": "execute_result",
          "data": {
            "text/plain": [
              "{'45': '86', 'ali': 'valinin oglu', 'qasim': 'pirveli ogli'}"
            ]
          },
          "metadata": {
            "tags": []
          },
          "execution_count": 80
        }
      ]
    },
    {
      "cell_type": "code",
      "metadata": {
        "colab": {
          "base_uri": "https://localhost:8080/"
        },
        "id": "EICwRiiLIv5U",
        "outputId": "1b84d45c-ca17-40de-fd8b-9c678d3f8e27"
      },
      "source": [
        "len(diction)"
      ],
      "execution_count": 81,
      "outputs": [
        {
          "output_type": "execute_result",
          "data": {
            "text/plain": [
              "3"
            ]
          },
          "metadata": {
            "tags": []
          },
          "execution_count": 81
        }
      ]
    },
    {
      "cell_type": "code",
      "metadata": {
        "colab": {
          "base_uri": "https://localhost:8080/",
          "height": 35
        },
        "id": "5AJOAXItIx3y",
        "outputId": "68f31adf-af9a-465d-f652-bdde467720ef"
      },
      "source": [
        "diction[\"ali\"]="
      ],
      "execution_count": 82,
      "outputs": [
        {
          "output_type": "execute_result",
          "data": {
            "application/vnd.google.colaboratory.intrinsic+json": {
              "type": "string"
            },
            "text/plain": [
              "'valinin oglu'"
            ]
          },
          "metadata": {
            "tags": []
          },
          "execution_count": 82
        }
      ]
    },
    {
      "cell_type": "code",
      "metadata": {
        "colab": {
          "base_uri": "https://localhost:8080/"
        },
        "id": "IBjXkVwxJLzf",
        "outputId": "790f9c1a-6e14-43e3-b5d1-0079e852f03c"
      },
      "source": [
        "diction[\"ali\"]=\"ali tovuz el qasim\"\n",
        "diction"
      ],
      "execution_count": 83,
      "outputs": [
        {
          "output_type": "execute_result",
          "data": {
            "text/plain": [
              "{'45': '86', 'ali': 'ali tovuz el qasim', 'qasim': 'pirveli ogli'}"
            ]
          },
          "metadata": {
            "tags": []
          },
          "execution_count": 83
        }
      ]
    },
    {
      "cell_type": "code",
      "metadata": {
        "colab": {
          "base_uri": "https://localhost:8080/"
        },
        "id": "RzWPCNuCJemG",
        "outputId": "a0272cff-ddc7-4fbb-bc96-882efe7b3632"
      },
      "source": [
        "diction[\"teze\"]=\"teze dict value\"\n",
        "diction"
      ],
      "execution_count": 84,
      "outputs": [
        {
          "output_type": "execute_result",
          "data": {
            "text/plain": [
              "{'45': '86',\n",
              " 'ali': 'ali tovuz el qasim',\n",
              " 'qasim': 'pirveli ogli',\n",
              " 'teze': 'teze dict value'}"
            ]
          },
          "metadata": {
            "tags": []
          },
          "execution_count": 84
        }
      ]
    },
    {
      "cell_type": "code",
      "metadata": {
        "id": "VkTyofd6Jlua"
      },
      "source": [
        "#set -  sirasizdir, deyerler beraber deyiller, deyishdirilebilirler, ferqi tipleri saxlaya bilirler  (tekrarlar varsa temizleyir)"
      ],
      "execution_count": null,
      "outputs": []
    },
    {
      "cell_type": "markdown",
      "metadata": {
        "id": "MdmezwK0Nl-j"
      },
      "source": [
        "#set -  sirasizdir, deyerler beraber deyiller, deyishdirilebilirler, ferqi tipleri saxlaya bilirler  (tekrarlar varsa temizleyir)"
      ]
    },
    {
      "cell_type": "code",
      "metadata": {
        "id": "7gw3sSXLKh3x"
      },
      "source": [
        "s=set()"
      ],
      "execution_count": 85,
      "outputs": []
    },
    {
      "cell_type": "code",
      "metadata": {
        "colab": {
          "base_uri": "https://localhost:8080/"
        },
        "id": "lxMy74hCLBHk",
        "outputId": "faed7003-5aa4-4895-c807-2454cc383927"
      },
      "source": [
        "set"
      ],
      "execution_count": 86,
      "outputs": [
        {
          "output_type": "execute_result",
          "data": {
            "text/plain": [
              "set"
            ]
          },
          "metadata": {
            "tags": []
          },
          "execution_count": 86
        }
      ]
    },
    {
      "cell_type": "code",
      "metadata": {
        "colab": {
          "base_uri": "https://localhost:8080/"
        },
        "id": "0D7dUQIOLB7z",
        "outputId": "b26f7cec-000e-4e27-b0b6-69cebc2063db"
      },
      "source": [
        "s=set(newnotes)\n",
        "s"
      ],
      "execution_count": 102,
      "outputs": [
        {
          "output_type": "execute_result",
          "data": {
            "text/plain": [
              "{80, 89, 98, 'aaaaaue', 'aue', 'az'}"
            ]
          },
          "metadata": {
            "tags": []
          },
          "execution_count": 102
        }
      ]
    },
    {
      "cell_type": "code",
      "metadata": {
        "id": "F_hsmjXTLG6T"
      },
      "source": [
        "asa=set(notes)\n",
        "\n"
      ],
      "execution_count": 103,
      "outputs": []
    },
    {
      "cell_type": "code",
      "metadata": {
        "colab": {
          "base_uri": "https://localhost:8080/"
        },
        "id": "0dcTGCCpMKAU",
        "outputId": "155ac415-379a-41f1-f70a-c1b7b9fe1220"
      },
      "source": [
        "asa"
      ],
      "execution_count": 93,
      "outputs": [
        {
          "output_type": "execute_result",
          "data": {
            "text/plain": [
              "[98, 'az', 80, 'aaaaaue', 'aue', 89]"
            ]
          },
          "metadata": {
            "tags": []
          },
          "execution_count": 93
        }
      ]
    },
    {
      "cell_type": "code",
      "metadata": {
        "id": "lBVigNlXMNjX"
      },
      "source": [
        "s.add(\"Auee\")"
      ],
      "execution_count": 98,
      "outputs": []
    },
    {
      "cell_type": "code",
      "metadata": {
        "id": "p3fUlTAaMoTv"
      },
      "source": [
        "s.remove(\"aue\")"
      ],
      "execution_count": 100,
      "outputs": []
    },
    {
      "cell_type": "code",
      "metadata": {
        "colab": {
          "base_uri": "https://localhost:8080/"
        },
        "id": "rrIO8f2oMo0K",
        "outputId": "36b580ac-0e09-4528-8517-5d989c9db698"
      },
      "source": [
        "s"
      ],
      "execution_count": 101,
      "outputs": [
        {
          "output_type": "execute_result",
          "data": {
            "text/plain": [
              "{80, 89, 98, 'Auee', 'aaaaaue', 'az'}"
            ]
          },
          "metadata": {
            "tags": []
          },
          "execution_count": 101
        }
      ]
    },
    {
      "cell_type": "code",
      "metadata": {
        "colab": {
          "base_uri": "https://localhost:8080/"
        },
        "id": "1Uw3ijhsLzwW",
        "outputId": "2db9fc21-6584-44c1-881b-7d741680246c"
      },
      "source": [
        "asa.difference(s)"
      ],
      "execution_count": 107,
      "outputs": [
        {
          "output_type": "execute_result",
          "data": {
            "text/plain": [
              "{90}"
            ]
          },
          "metadata": {
            "tags": []
          },
          "execution_count": 107
        }
      ]
    },
    {
      "cell_type": "code",
      "metadata": {
        "colab": {
          "base_uri": "https://localhost:8080/"
        },
        "id": "8mdSyX5pN3oz",
        "outputId": "a0cb6f5d-de89-4517-8049-42287972bed0"
      },
      "source": [
        "s.difference(asa)"
      ],
      "execution_count": 108,
      "outputs": [
        {
          "output_type": "execute_result",
          "data": {
            "text/plain": [
              "set()"
            ]
          },
          "metadata": {
            "tags": []
          },
          "execution_count": 108
        }
      ]
    },
    {
      "cell_type": "code",
      "metadata": {
        "colab": {
          "base_uri": "https://localhost:8080/"
        },
        "id": "Sb7ftlRPN8rf",
        "outputId": "cfd04cb1-8721-4c9b-fff6-26a76fa66517"
      },
      "source": [
        "asa.symmetric_difference(s)"
      ],
      "execution_count": 109,
      "outputs": [
        {
          "output_type": "execute_result",
          "data": {
            "text/plain": [
              "{90}"
            ]
          },
          "metadata": {
            "tags": []
          },
          "execution_count": 109
        }
      ]
    },
    {
      "cell_type": "code",
      "metadata": {
        "id": "UzYjedB4OF55"
      },
      "source": [
        "a=set([2,35,7,8])\n",
        "b=set([2,35,76,87])"
      ],
      "execution_count": 110,
      "outputs": []
    },
    {
      "cell_type": "code",
      "metadata": {
        "colab": {
          "base_uri": "https://localhost:8080/"
        },
        "id": "CJr7HXIZOMO-",
        "outputId": "db76f244-9cc4-456e-8d17-6b205dcf66f8"
      },
      "source": [
        "a.intersection(b)"
      ],
      "execution_count": 111,
      "outputs": [
        {
          "output_type": "execute_result",
          "data": {
            "text/plain": [
              "{2, 35}"
            ]
          },
          "metadata": {
            "tags": []
          },
          "execution_count": 111
        }
      ]
    },
    {
      "cell_type": "code",
      "metadata": {
        "colab": {
          "base_uri": "https://localhost:8080/"
        },
        "id": "iYAeAKIhOO0R",
        "outputId": "a7982689-b864-4e89-c291-f0e2175fddea"
      },
      "source": [
        "a & b"
      ],
      "execution_count": 112,
      "outputs": [
        {
          "output_type": "execute_result",
          "data": {
            "text/plain": [
              "{2, 35}"
            ]
          },
          "metadata": {
            "tags": []
          },
          "execution_count": 112
        }
      ]
    },
    {
      "cell_type": "code",
      "metadata": {
        "id": "G1axwAxAOVMM"
      },
      "source": [
        "uni=a.union(b)"
      ],
      "execution_count": 114,
      "outputs": []
    },
    {
      "cell_type": "code",
      "metadata": {
        "colab": {
          "base_uri": "https://localhost:8080/"
        },
        "id": "_JivvY7KOaOE",
        "outputId": "bec5c79c-6773-463e-f80a-48d43852744d"
      },
      "source": [
        "a.isdisjoint(b) #kheshishimi bsohdur ?"
      ],
      "execution_count": 115,
      "outputs": [
        {
          "output_type": "execute_result",
          "data": {
            "text/plain": [
              "False"
            ]
          },
          "metadata": {
            "tags": []
          },
          "execution_count": 115
        }
      ]
    },
    {
      "cell_type": "markdown",
      "metadata": {
        "id": "brFB5AeJPJ-e"
      },
      "source": [
        "![image.png](data:image/png;base64,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)"
      ]
    },
    {
      "cell_type": "code",
      "metadata": {
        "id": "HC2vVsHGPAaK"
      },
      "source": [
        "kapsayici- birden cox data tipi ücün uygundur"
      ],
      "execution_count": null,
      "outputs": []
    }
  ]
}