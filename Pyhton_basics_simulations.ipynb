{
  "nbformat": 4,
  "nbformat_minor": 0,
  "metadata": {
    "colab": {
      "name": "Pyhton basics_simulations.ipynb",
      "provenance": [],
      "toc_visible": true
    },
    "kernelspec": {
      "name": "python3",
      "display_name": "Python 3"
    },
    "language_info": {
      "name": "python"
    }
  },
  "cells": [
    {
      "cell_type": "markdown",
      "metadata": {
        "id": "_SXO8jg05dtR"
      },
      "source": [
        "Strings"
      ]
    },
    {
      "cell_type": "code",
      "metadata": {
        "colab": {
          "base_uri": "https://localhost:8080/",
          "height": 35
        },
        "id": "ZPFV6bcX4pWy",
        "outputId": "8e3eb574-3a6e-4f91-85a7-d19b9485ddfb"
      },
      "source": [
        "\"Data\"+\"with\"+\"Python\""
      ],
      "execution_count": 1,
      "outputs": [
        {
          "output_type": "execute_result",
          "data": {
            "application/vnd.google.colaboratory.intrinsic+json": {
              "type": "string"
            },
            "text/plain": [
              "'DatawithPython'"
            ]
          },
          "metadata": {
            "tags": []
          },
          "execution_count": 1
        }
      ]
    },
    {
      "cell_type": "code",
      "metadata": {
        "colab": {
          "base_uri": "https://localhost:8080/",
          "height": 35
        },
        "id": "0pYluGmd5owt",
        "outputId": "9682eb98-73b4-4a72-8091-ad7133c1ef98"
      },
      "source": [
        "\"Data \"+\"with \"+\"Python\""
      ],
      "execution_count": 2,
      "outputs": [
        {
          "output_type": "execute_result",
          "data": {
            "application/vnd.google.colaboratory.intrinsic+json": {
              "type": "string"
            },
            "text/plain": [
              "'Data with Python'"
            ]
          },
          "metadata": {
            "tags": []
          },
          "execution_count": 2
        }
      ]
    },
    {
      "cell_type": "code",
      "metadata": {
        "id": "88UyoDLZ5wQx"
      },
      "source": [
        "a=\"Data \"+\"with \"+\"Python\""
      ],
      "execution_count": 3,
      "outputs": []
    },
    {
      "cell_type": "code",
      "metadata": {
        "colab": {
          "base_uri": "https://localhost:8080/",
          "height": 35
        },
        "id": "5vXqXp-O6Ot5",
        "outputId": "a65ae8d6-453e-4d27-cd18-9180a58286c9"
      },
      "source": [
        "a.upper()"
      ],
      "execution_count": 4,
      "outputs": [
        {
          "output_type": "execute_result",
          "data": {
            "application/vnd.google.colaboratory.intrinsic+json": {
              "type": "string"
            },
            "text/plain": [
              "'DATA WITH PYTHON'"
            ]
          },
          "metadata": {
            "tags": []
          },
          "execution_count": 4
        }
      ]
    },
    {
      "cell_type": "code",
      "metadata": {
        "colab": {
          "base_uri": "https://localhost:8080/",
          "height": 35
        },
        "id": "-ynTRMAD6QSE",
        "outputId": "099f6f74-986e-4e48-a90f-e1fb1d45c35b"
      },
      "source": [
        "a.lower()"
      ],
      "execution_count": 6,
      "outputs": [
        {
          "output_type": "execute_result",
          "data": {
            "application/vnd.google.colaboratory.intrinsic+json": {
              "type": "string"
            },
            "text/plain": [
              "'data with python'"
            ]
          },
          "metadata": {
            "tags": []
          },
          "execution_count": 6
        }
      ]
    },
    {
      "cell_type": "code",
      "metadata": {
        "colab": {
          "base_uri": "https://localhost:8080/",
          "height": 35
        },
        "id": "r39gdOCd6Ulz",
        "outputId": "0b2af9ce-8507-4044-a963-f11f67737371"
      },
      "source": [
        "\"data with python\".replace(\"data\", \"data science\")"
      ],
      "execution_count": 10,
      "outputs": [
        {
          "output_type": "execute_result",
          "data": {
            "application/vnd.google.colaboratory.intrinsic+json": {
              "type": "string"
            },
            "text/plain": [
              "'data science with python'"
            ]
          },
          "metadata": {
            "tags": []
          },
          "execution_count": 10
        }
      ]
    },
    {
      "cell_type": "code",
      "metadata": {
        "colab": {
          "base_uri": "https://localhost:8080/",
          "height": 35
        },
        "id": "nKuYZIt36kpd",
        "outputId": "788dd14a-ae14-411d-d64e-244ef8938e05"
      },
      "source": [
        "a=\"data science with python\"\n",
        "b=a.replace(\"data science\", \"data\")\n",
        "b\n"
      ],
      "execution_count": 18,
      "outputs": [
        {
          "output_type": "execute_result",
          "data": {
            "application/vnd.google.colaboratory.intrinsic+json": {
              "type": "string"
            },
            "text/plain": [
              "'data with python'"
            ]
          },
          "metadata": {
            "tags": []
          },
          "execution_count": 18
        }
      ]
    },
    {
      "cell_type": "markdown",
      "metadata": {
        "id": "yfcqCaiB9DbR"
      },
      "source": [
        "Comparison"
      ]
    },
    {
      "cell_type": "code",
      "metadata": {
        "colab": {
          "base_uri": "https://localhost:8080/"
        },
        "id": "IJYDf0t87hlH",
        "outputId": "28087c1a-190c-44fd-f577-053c9323cfab"
      },
      "source": [
        "a=11\n",
        "b = 7\n",
        "min(a, b) <= (a+b)/2 <= max(a, b)"
      ],
      "execution_count": 20,
      "outputs": [
        {
          "output_type": "execute_result",
          "data": {
            "text/plain": [
              "True"
            ]
          },
          "metadata": {
            "tags": []
          },
          "execution_count": 20
        }
      ]
    },
    {
      "cell_type": "code",
      "metadata": {
        "id": "uSDbLQO2AH8E"
      },
      "source": [
        ""
      ],
      "execution_count": null,
      "outputs": []
    },
    {
      "cell_type": "markdown",
      "metadata": {
        "id": "kZdMFxmy9G4E"
      },
      "source": [
        "**Array**"
      ]
    },
    {
      "cell_type": "code",
      "metadata": {
        "id": "5zFhtC7L953r"
      },
      "source": [
        "import numpy as np\n"
      ],
      "execution_count": 23,
      "outputs": []
    },
    {
      "cell_type": "code",
      "metadata": {
        "id": "fMYTHZMK-jpm"
      },
      "source": [
        ""
      ],
      "execution_count": null,
      "outputs": []
    },
    {
      "cell_type": "code",
      "metadata": {
        "colab": {
          "base_uri": "https://localhost:8080/"
        },
        "id": "5yYGc4tE9Ici",
        "outputId": "ffe6b142-d7d8-4d6b-9d15-f58bef286456"
      },
      "source": [
        "ab = 10\n",
        "abcd = np.array([ab - 0.880, ab - 0.093,\n",
        "                   ab + 0.105, ab + 0.684])\n",
        "abcd"
      ],
      "execution_count": 32,
      "outputs": [
        {
          "output_type": "execute_result",
          "data": {
            "text/plain": [
              "array([ 9.12 ,  9.907, 10.105, 10.684])"
            ]
          },
          "metadata": {
            "tags": []
          },
          "execution_count": 32
        }
      ]
    },
    {
      "cell_type": "code",
      "metadata": {
        "colab": {
          "base_uri": "https://localhost:8080/"
        },
        "id": "PDauVO1d-whD",
        "outputId": "6cf0908f-98cb-489a-c850-bdbbe2d73d7f"
      },
      "source": [
        "sum(abcd)/len(abcd)"
      ],
      "execution_count": 33,
      "outputs": [
        {
          "output_type": "execute_result",
          "data": {
            "text/plain": [
              "9.954"
            ]
          },
          "metadata": {
            "tags": []
          },
          "execution_count": 33
        }
      ]
    },
    {
      "cell_type": "code",
      "metadata": {
        "colab": {
          "base_uri": "https://localhost:8080/"
        },
        "id": "6JBoACzp_Na7",
        "outputId": "4dd9910d-09b9-4065-aaed-45bd29413608"
      },
      "source": [
        "(5)*abcd"
      ],
      "execution_count": 34,
      "outputs": [
        {
          "output_type": "execute_result",
          "data": {
            "text/plain": [
              "array([45.6  , 49.535, 50.525, 53.42 ])"
            ]
          },
          "metadata": {
            "tags": []
          },
          "execution_count": 34
        }
      ]
    },
    {
      "cell_type": "code",
      "metadata": {
        "id": "G8PnE55S_1uE"
      },
      "source": [
        "array=abcd"
      ],
      "execution_count": 35,
      "outputs": []
    },
    {
      "cell_type": "code",
      "metadata": {
        "colab": {
          "base_uri": "https://localhost:8080/"
        },
        "id": "l0jYh-x0_4g-",
        "outputId": "c07321a9-f5a9-4672-d9b1-5fc74b4184af"
      },
      "source": [
        "array.size"
      ],
      "execution_count": 36,
      "outputs": [
        {
          "output_type": "execute_result",
          "data": {
            "text/plain": [
              "4"
            ]
          },
          "metadata": {
            "tags": []
          },
          "execution_count": 36
        }
      ]
    },
    {
      "cell_type": "code",
      "metadata": {
        "colab": {
          "base_uri": "https://localhost:8080/"
        },
        "id": "HPo0XKi-_6OC",
        "outputId": "70432fcc-8600-4ffa-ceaa-9a3355dbb49a"
      },
      "source": [
        "array.sum()"
      ],
      "execution_count": 38,
      "outputs": [
        {
          "output_type": "execute_result",
          "data": {
            "text/plain": [
              "39.816"
            ]
          },
          "metadata": {
            "tags": []
          },
          "execution_count": 38
        }
      ]
    },
    {
      "cell_type": "code",
      "metadata": {
        "colab": {
          "base_uri": "https://localhost:8080/"
        },
        "id": "4ogybMkm_76K",
        "outputId": "f5ddc4ba-5d8d-49d3-ea83-c937cb1ec1a5"
      },
      "source": [
        "array.mean()"
      ],
      "execution_count": 39,
      "outputs": [
        {
          "output_type": "execute_result",
          "data": {
            "text/plain": [
              "9.954"
            ]
          },
          "metadata": {
            "tags": []
          },
          "execution_count": 39
        }
      ]
    },
    {
      "cell_type": "code",
      "metadata": {
        "colab": {
          "base_uri": "https://localhost:8080/"
        },
        "id": "BQU-elmo__NK",
        "outputId": "0606f39b-616b-4a4d-9803-78726d3e8c34"
      },
      "source": [
        "array.max()"
      ],
      "execution_count": 40,
      "outputs": [
        {
          "output_type": "execute_result",
          "data": {
            "text/plain": [
              "10.684"
            ]
          },
          "metadata": {
            "tags": []
          },
          "execution_count": 40
        }
      ]
    },
    {
      "cell_type": "code",
      "metadata": {
        "colab": {
          "base_uri": "https://localhost:8080/"
        },
        "id": "g3dqmRTgAEMR",
        "outputId": "255b50e6-2030-4fac-ec04-a8988b58a909"
      },
      "source": [
        "array.min()"
      ],
      "execution_count": 42,
      "outputs": [
        {
          "output_type": "execute_result",
          "data": {
            "text/plain": [
              "9.12"
            ]
          },
          "metadata": {
            "tags": []
          },
          "execution_count": 42
        }
      ]
    },
    {
      "cell_type": "code",
      "metadata": {
        "colab": {
          "base_uri": "https://localhost:8080/"
        },
        "id": "_Izqjk-KANTc",
        "outputId": "68e0989e-e08a-4472-9448-b3683e90bfbf"
      },
      "source": [
        "array"
      ],
      "execution_count": 43,
      "outputs": [
        {
          "output_type": "execute_result",
          "data": {
            "text/plain": [
              "array([ 9.12 ,  9.907, 10.105, 10.684])"
            ]
          },
          "metadata": {
            "tags": []
          },
          "execution_count": 43
        }
      ]
    },
    {
      "cell_type": "code",
      "metadata": {
        "colab": {
          "base_uri": "https://localhost:8080/"
        },
        "id": "FxXDVAaDAF7x",
        "outputId": "74d2171d-2700-43e8-a344-a31adfa2f5fd"
      },
      "source": [
        "np.diff(array) #first element of the diff is the second element minus the first"
      ],
      "execution_count": 45,
      "outputs": [
        {
          "output_type": "execute_result",
          "data": {
            "text/plain": [
              "array([0.787, 0.198, 0.579])"
            ]
          },
          "metadata": {
            "tags": []
          },
          "execution_count": 45
        }
      ]
    },
    {
      "cell_type": "code",
      "metadata": {
        "colab": {
          "base_uri": "https://localhost:8080/"
        },
        "id": "DnRyJzXoAViR",
        "outputId": "41d61c55-2a98-428e-9cbd-0a9f9eae9516"
      },
      "source": [
        "np.prod(array)"
      ],
      "execution_count": 47,
      "outputs": [
        {
          "output_type": "execute_result",
          "data": {
            "text/plain": [
              "9754.549086748799"
            ]
          },
          "metadata": {
            "tags": []
          },
          "execution_count": 47
        }
      ]
    },
    {
      "cell_type": "markdown",
      "metadata": {
        "id": "xirkfKVKBQXF"
      },
      "source": [
        "Ranges"
      ]
    },
    {
      "cell_type": "code",
      "metadata": {
        "colab": {
          "base_uri": "https://localhost:8080/"
        },
        "id": "unBduY37A0EX",
        "outputId": "a75d13b3-af37-49ca-e05a-e025bd71d842"
      },
      "source": [
        "np.arange(7)"
      ],
      "execution_count": 51,
      "outputs": [
        {
          "output_type": "execute_result",
          "data": {
            "text/plain": [
              "array([0, 1, 2, 3, 4, 5, 6])"
            ]
          },
          "metadata": {
            "tags": []
          },
          "execution_count": 51
        }
      ]
    },
    {
      "cell_type": "code",
      "metadata": {
        "colab": {
          "base_uri": "https://localhost:8080/"
        },
        "id": "-cBGIYJFBObQ",
        "outputId": "0124b746-7262-4dd0-b8c1-64ed686d98f5"
      },
      "source": [
        "np.arange(5,15)"
      ],
      "execution_count": 52,
      "outputs": [
        {
          "output_type": "execute_result",
          "data": {
            "text/plain": [
              "array([ 5,  6,  7,  8,  9, 10, 11, 12, 13, 14])"
            ]
          },
          "metadata": {
            "tags": []
          },
          "execution_count": 52
        }
      ]
    },
    {
      "cell_type": "code",
      "metadata": {
        "colab": {
          "base_uri": "https://localhost:8080/"
        },
        "id": "JkTBPcrEBXGo",
        "outputId": "9451cd60-296c-4588-f6bc-631971fc61c2"
      },
      "source": [
        "np.arange(3, 30, 5) #range with difference"
      ],
      "execution_count": 53,
      "outputs": [
        {
          "output_type": "execute_result",
          "data": {
            "text/plain": [
              "array([ 3,  8, 13, 18, 23, 28])"
            ]
          },
          "metadata": {
            "tags": []
          },
          "execution_count": 53
        }
      ]
    },
    {
      "cell_type": "code",
      "metadata": {
        "colab": {
          "base_uri": "https://localhost:8080/"
        },
        "id": "GlEfZuvLBZeu",
        "outputId": "5190bda4-4590-44be-aaa3-f151c25049ef"
      },
      "source": [
        "np.arange(1.5, -2, -0.5)"
      ],
      "execution_count": 54,
      "outputs": [
        {
          "output_type": "execute_result",
          "data": {
            "text/plain": [
              "array([ 1.5,  1. ,  0.5,  0. , -0.5, -1. , -1.5])"
            ]
          },
          "metadata": {
            "tags": []
          },
          "execution_count": 54
        }
      ]
    },
    {
      "cell_type": "markdown",
      "metadata": {
        "id": "mLipOxW2B0aT"
      },
      "source": [
        "Leibniz’s formula for π"
      ]
    },
    {
      "cell_type": "code",
      "metadata": {
        "colab": {
          "base_uri": "https://localhost:8080/"
        },
        "id": "0RjRsvOUBjrV",
        "outputId": "ceb0f774-4e74-4317-c3f3-ff553b66342b"
      },
      "source": [
        "by_four_to_20 = np.arange(1, 20, 4)\n",
        "by_four_to_20"
      ],
      "execution_count": 55,
      "outputs": [
        {
          "output_type": "execute_result",
          "data": {
            "text/plain": [
              "array([ 1,  5,  9, 13, 17])"
            ]
          },
          "metadata": {
            "tags": []
          },
          "execution_count": 55
        }
      ]
    },
    {
      "cell_type": "code",
      "metadata": {
        "colab": {
          "base_uri": "https://localhost:8080/"
        },
        "id": "g1mD1I4GB4VD",
        "outputId": "970f48b5-ce89-4171-afca-ff7c2de22c63"
      },
      "source": [
        "positive_term_denominators = np.arange(1, 10000, 4)\n",
        "positive_term_denominators\n",
        "\n"
      ],
      "execution_count": 56,
      "outputs": [
        {
          "output_type": "execute_result",
          "data": {
            "text/plain": [
              "array([   1,    5,    9, ..., 9989, 9993, 9997])"
            ]
          },
          "metadata": {
            "tags": []
          },
          "execution_count": 56
        }
      ]
    },
    {
      "cell_type": "code",
      "metadata": {
        "id": "emLA6K51B6yC"
      },
      "source": [
        "positive_terms = 1 / positive_term_denominators"
      ],
      "execution_count": 57,
      "outputs": []
    },
    {
      "cell_type": "code",
      "metadata": {
        "id": "mu5Jf6C-CAmz"
      },
      "source": [
        "negative_terms = 1 / (positive_term_denominators + 2)"
      ],
      "execution_count": 58,
      "outputs": []
    },
    {
      "cell_type": "code",
      "metadata": {
        "colab": {
          "base_uri": "https://localhost:8080/"
        },
        "id": "WewMIzM2CBWP",
        "outputId": "542d5cc2-ba10-4bfe-8f0a-11a2e53492ba"
      },
      "source": [
        "4 * ( sum(positive_terms) - sum(negative_terms) )"
      ],
      "execution_count": 59,
      "outputs": [
        {
          "output_type": "execute_result",
          "data": {
            "text/plain": [
              "3.1413926535917955"
            ]
          },
          "metadata": {
            "tags": []
          },
          "execution_count": 59
        }
      ]
    },
    {
      "cell_type": "markdown",
      "metadata": {
        "id": "BishCjIbEZd9"
      },
      "source": [
        "**Simulation**"
      ]
    },
    {
      "cell_type": "code",
      "metadata": {
        "colab": {
          "base_uri": "https://localhost:8080/"
        },
        "id": "hTblcFm1EaBN",
        "outputId": "6f1aa023-7408-4390-861d-3a2b545f399f"
      },
      "source": [
        "coin = np.array(['Heads', 'Tails'])\n",
        "coin"
      ],
      "execution_count": 64,
      "outputs": [
        {
          "output_type": "execute_result",
          "data": {
            "text/plain": [
              "array(['Heads', 'Tails'], dtype='<U5')"
            ]
          },
          "metadata": {
            "tags": []
          },
          "execution_count": 64
        }
      ]
    },
    {
      "cell_type": "code",
      "metadata": {
        "colab": {
          "base_uri": "https://localhost:8080/"
        },
        "id": "hyVnLUk-FFFs",
        "outputId": "e37bfecf-eed4-4417-f6e0-d966c434a88a"
      },
      "source": [
        "ten_tosses = np.random.choice(coin, 10)\n",
        "ten_tosses"
      ],
      "execution_count": 77,
      "outputs": [
        {
          "output_type": "execute_result",
          "data": {
            "text/plain": [
              "array(['Heads', 'Tails', 'Heads', 'Heads', 'Heads', 'Tails', 'Heads',\n",
              "       'Heads', 'Tails', 'Tails'], dtype='<U5')"
            ]
          },
          "metadata": {
            "tags": []
          },
          "execution_count": 77
        }
      ]
    },
    {
      "cell_type": "code",
      "metadata": {
        "colab": {
          "base_uri": "https://localhost:8080/"
        },
        "id": "ROs9vedfEiAZ",
        "outputId": "df8f6204-9604-4d93-d92e-4e62fc7ad244"
      },
      "source": [
        "np.count_nonzero(ten_tosses == 'Heads')"
      ],
      "execution_count": 78,
      "outputs": [
        {
          "output_type": "execute_result",
          "data": {
            "text/plain": [
              "6"
            ]
          },
          "metadata": {
            "tags": []
          },
          "execution_count": 78
        }
      ]
    },
    {
      "cell_type": "code",
      "metadata": {
        "colab": {
          "base_uri": "https://localhost:8080/"
        },
        "id": "RWF4XJbNFYVI",
        "outputId": "f1d62270-7fde-4962-c0c1-45b86e67dbe2"
      },
      "source": [
        "outcomes = np.random.choice(coin, 100) #Toss a coin 100 times and count the number of heads.\n",
        "num_heads = np.count_nonzero(outcomes == 'Heads')\n",
        "num_heads"
      ],
      "execution_count": 81,
      "outputs": [
        {
          "output_type": "execute_result",
          "data": {
            "text/plain": [
              "51"
            ]
          },
          "metadata": {
            "tags": []
          },
          "execution_count": 81
        }
      ]
    },
    {
      "cell_type": "code",
      "metadata": {
        "id": "-s3M0EeNFbTr"
      },
      "source": [
        "# An empty array to collect the simulated values\n",
        "heads = np.array([])\n",
        "\n",
        "# Repetitions sequence\n",
        "num_repetitions = 10000\n",
        "repetitions_sequence = np.arange(num_repetitions)\n",
        "\n",
        "# for loop\n",
        "for i in repetitions_sequence:\n",
        "    \n",
        "    # simulate one value\n",
        "    outcomes = np.random.choice(coin, 100)\n",
        "    num_heads = np.count_nonzero(outcomes == 'Heads')\n",
        "    \n",
        "    # augment the collection array with the simulated value\n",
        "    heads = np.append(heads, num_heads)  \n",
        "\n",
        "# That's it! The simulation is done."
      ],
      "execution_count": 90,
      "outputs": []
    },
    {
      "cell_type": "code",
      "metadata": {
        "id": "lhbGfrrWHs3V"
      },
      "source": [
        ""
      ],
      "execution_count": null,
      "outputs": []
    },
    {
      "cell_type": "code",
      "metadata": {
        "colab": {
          "base_uri": "https://localhost:8080/"
        },
        "id": "23A2pBLqGDDl",
        "outputId": "1b95f609-30bc-4a96-b838-7c1bf7fdd39c"
      },
      "source": [
        "len(heads)"
      ],
      "execution_count": 84,
      "outputs": [
        {
          "output_type": "execute_result",
          "data": {
            "text/plain": [
              "10000"
            ]
          },
          "metadata": {
            "tags": []
          },
          "execution_count": 84
        }
      ]
    },
    {
      "cell_type": "code",
      "metadata": {
        "id": "aAH4KP5xG0lz"
      },
      "source": [
        "import pandas as pd"
      ],
      "execution_count": 86,
      "outputs": []
    },
    {
      "cell_type": "code",
      "metadata": {
        "colab": {
          "base_uri": "https://localhost:8080/",
          "height": 419
        },
        "id": "tYCiyHlQHLJx",
        "outputId": "a9f5ff1b-6065-4c0c-a7ec-d8ff2f23ac49"
      },
      "source": [
        "data=(np.arange(1, num_repetitions + 1))\n",
        "data1=pd.DataFrame(data, columns=['Repetition'])\n",
        "data1"
      ],
      "execution_count": 174,
      "outputs": [
        {
          "output_type": "execute_result",
          "data": {
            "text/html": [
              "<div>\n",
              "<style scoped>\n",
              "    .dataframe tbody tr th:only-of-type {\n",
              "        vertical-align: middle;\n",
              "    }\n",
              "\n",
              "    .dataframe tbody tr th {\n",
              "        vertical-align: top;\n",
              "    }\n",
              "\n",
              "    .dataframe thead th {\n",
              "        text-align: right;\n",
              "    }\n",
              "</style>\n",
              "<table border=\"1\" class=\"dataframe\">\n",
              "  <thead>\n",
              "    <tr style=\"text-align: right;\">\n",
              "      <th></th>\n",
              "      <th>Repetition</th>\n",
              "    </tr>\n",
              "  </thead>\n",
              "  <tbody>\n",
              "    <tr>\n",
              "      <th>0</th>\n",
              "      <td>1</td>\n",
              "    </tr>\n",
              "    <tr>\n",
              "      <th>1</th>\n",
              "      <td>2</td>\n",
              "    </tr>\n",
              "    <tr>\n",
              "      <th>2</th>\n",
              "      <td>3</td>\n",
              "    </tr>\n",
              "    <tr>\n",
              "      <th>3</th>\n",
              "      <td>4</td>\n",
              "    </tr>\n",
              "    <tr>\n",
              "      <th>4</th>\n",
              "      <td>5</td>\n",
              "    </tr>\n",
              "    <tr>\n",
              "      <th>...</th>\n",
              "      <td>...</td>\n",
              "    </tr>\n",
              "    <tr>\n",
              "      <th>9995</th>\n",
              "      <td>9996</td>\n",
              "    </tr>\n",
              "    <tr>\n",
              "      <th>9996</th>\n",
              "      <td>9997</td>\n",
              "    </tr>\n",
              "    <tr>\n",
              "      <th>9997</th>\n",
              "      <td>9998</td>\n",
              "    </tr>\n",
              "    <tr>\n",
              "      <th>9998</th>\n",
              "      <td>9999</td>\n",
              "    </tr>\n",
              "    <tr>\n",
              "      <th>9999</th>\n",
              "      <td>10000</td>\n",
              "    </tr>\n",
              "  </tbody>\n",
              "</table>\n",
              "<p>10000 rows × 1 columns</p>\n",
              "</div>"
            ],
            "text/plain": [
              "      Repetition\n",
              "0              1\n",
              "1              2\n",
              "2              3\n",
              "3              4\n",
              "4              5\n",
              "...          ...\n",
              "9995        9996\n",
              "9996        9997\n",
              "9997        9998\n",
              "9998        9999\n",
              "9999       10000\n",
              "\n",
              "[10000 rows x 1 columns]"
            ]
          },
          "metadata": {
            "tags": []
          },
          "execution_count": 174
        }
      ]
    },
    {
      "cell_type": "code",
      "metadata": {
        "colab": {
          "base_uri": "https://localhost:8080/",
          "height": 419
        },
        "id": "GDIdF9lGL_kM",
        "outputId": "a0624d94-0a71-4b0a-d9ea-afbb6d13a7a0"
      },
      "source": [
        "data2=pd.DataFrame(heads, columns=['Number of Heads'])\n",
        "data2"
      ],
      "execution_count": 173,
      "outputs": [
        {
          "output_type": "execute_result",
          "data": {
            "text/html": [
              "<div>\n",
              "<style scoped>\n",
              "    .dataframe tbody tr th:only-of-type {\n",
              "        vertical-align: middle;\n",
              "    }\n",
              "\n",
              "    .dataframe tbody tr th {\n",
              "        vertical-align: top;\n",
              "    }\n",
              "\n",
              "    .dataframe thead th {\n",
              "        text-align: right;\n",
              "    }\n",
              "</style>\n",
              "<table border=\"1\" class=\"dataframe\">\n",
              "  <thead>\n",
              "    <tr style=\"text-align: right;\">\n",
              "      <th></th>\n",
              "      <th>Number of Heads</th>\n",
              "    </tr>\n",
              "  </thead>\n",
              "  <tbody>\n",
              "    <tr>\n",
              "      <th>0</th>\n",
              "      <td>60.0</td>\n",
              "    </tr>\n",
              "    <tr>\n",
              "      <th>1</th>\n",
              "      <td>52.0</td>\n",
              "    </tr>\n",
              "    <tr>\n",
              "      <th>2</th>\n",
              "      <td>47.0</td>\n",
              "    </tr>\n",
              "    <tr>\n",
              "      <th>3</th>\n",
              "      <td>49.0</td>\n",
              "    </tr>\n",
              "    <tr>\n",
              "      <th>4</th>\n",
              "      <td>54.0</td>\n",
              "    </tr>\n",
              "    <tr>\n",
              "      <th>...</th>\n",
              "      <td>...</td>\n",
              "    </tr>\n",
              "    <tr>\n",
              "      <th>9995</th>\n",
              "      <td>57.0</td>\n",
              "    </tr>\n",
              "    <tr>\n",
              "      <th>9996</th>\n",
              "      <td>55.0</td>\n",
              "    </tr>\n",
              "    <tr>\n",
              "      <th>9997</th>\n",
              "      <td>49.0</td>\n",
              "    </tr>\n",
              "    <tr>\n",
              "      <th>9998</th>\n",
              "      <td>56.0</td>\n",
              "    </tr>\n",
              "    <tr>\n",
              "      <th>9999</th>\n",
              "      <td>50.0</td>\n",
              "    </tr>\n",
              "  </tbody>\n",
              "</table>\n",
              "<p>10000 rows × 1 columns</p>\n",
              "</div>"
            ],
            "text/plain": [
              "      Number of Heads\n",
              "0                60.0\n",
              "1                52.0\n",
              "2                47.0\n",
              "3                49.0\n",
              "4                54.0\n",
              "...               ...\n",
              "9995             57.0\n",
              "9996             55.0\n",
              "9997             49.0\n",
              "9998             56.0\n",
              "9999             50.0\n",
              "\n",
              "[10000 rows x 1 columns]"
            ]
          },
          "metadata": {
            "tags": []
          },
          "execution_count": 173
        }
      ]
    },
    {
      "cell_type": "code",
      "metadata": {
        "colab": {
          "base_uri": "https://localhost:8080/",
          "height": 419
        },
        "id": "AuLMV4_CPfSZ",
        "outputId": "49a455a1-e362-4f91-bada-cf25364f1a3f"
      },
      "source": [
        "df=pd.concat([data1,data2], axis=1)\n",
        "df"
      ],
      "execution_count": 175,
      "outputs": [
        {
          "output_type": "execute_result",
          "data": {
            "text/html": [
              "<div>\n",
              "<style scoped>\n",
              "    .dataframe tbody tr th:only-of-type {\n",
              "        vertical-align: middle;\n",
              "    }\n",
              "\n",
              "    .dataframe tbody tr th {\n",
              "        vertical-align: top;\n",
              "    }\n",
              "\n",
              "    .dataframe thead th {\n",
              "        text-align: right;\n",
              "    }\n",
              "</style>\n",
              "<table border=\"1\" class=\"dataframe\">\n",
              "  <thead>\n",
              "    <tr style=\"text-align: right;\">\n",
              "      <th></th>\n",
              "      <th>Repetition</th>\n",
              "      <th>Number of Heads</th>\n",
              "    </tr>\n",
              "  </thead>\n",
              "  <tbody>\n",
              "    <tr>\n",
              "      <th>0</th>\n",
              "      <td>1</td>\n",
              "      <td>60.0</td>\n",
              "    </tr>\n",
              "    <tr>\n",
              "      <th>1</th>\n",
              "      <td>2</td>\n",
              "      <td>52.0</td>\n",
              "    </tr>\n",
              "    <tr>\n",
              "      <th>2</th>\n",
              "      <td>3</td>\n",
              "      <td>47.0</td>\n",
              "    </tr>\n",
              "    <tr>\n",
              "      <th>3</th>\n",
              "      <td>4</td>\n",
              "      <td>49.0</td>\n",
              "    </tr>\n",
              "    <tr>\n",
              "      <th>4</th>\n",
              "      <td>5</td>\n",
              "      <td>54.0</td>\n",
              "    </tr>\n",
              "    <tr>\n",
              "      <th>...</th>\n",
              "      <td>...</td>\n",
              "      <td>...</td>\n",
              "    </tr>\n",
              "    <tr>\n",
              "      <th>9995</th>\n",
              "      <td>9996</td>\n",
              "      <td>57.0</td>\n",
              "    </tr>\n",
              "    <tr>\n",
              "      <th>9996</th>\n",
              "      <td>9997</td>\n",
              "      <td>55.0</td>\n",
              "    </tr>\n",
              "    <tr>\n",
              "      <th>9997</th>\n",
              "      <td>9998</td>\n",
              "      <td>49.0</td>\n",
              "    </tr>\n",
              "    <tr>\n",
              "      <th>9998</th>\n",
              "      <td>9999</td>\n",
              "      <td>56.0</td>\n",
              "    </tr>\n",
              "    <tr>\n",
              "      <th>9999</th>\n",
              "      <td>10000</td>\n",
              "      <td>50.0</td>\n",
              "    </tr>\n",
              "  </tbody>\n",
              "</table>\n",
              "<p>10000 rows × 2 columns</p>\n",
              "</div>"
            ],
            "text/plain": [
              "      Repetition  Number of Heads\n",
              "0              1             60.0\n",
              "1              2             52.0\n",
              "2              3             47.0\n",
              "3              4             49.0\n",
              "4              5             54.0\n",
              "...          ...              ...\n",
              "9995        9996             57.0\n",
              "9996        9997             55.0\n",
              "9997        9998             49.0\n",
              "9998        9999             56.0\n",
              "9999       10000             50.0\n",
              "\n",
              "[10000 rows x 2 columns]"
            ]
          },
          "metadata": {
            "tags": []
          },
          "execution_count": 175
        }
      ]
    },
    {
      "cell_type": "code",
      "metadata": {
        "colab": {
          "base_uri": "https://localhost:8080/",
          "height": 315
        },
        "id": "7lmcSf_RQmB5",
        "outputId": "d7b34a88-7882-4494-fad7-3c21f4fc0afc"
      },
      "source": [
        "df.hist('Number of Heads', bins = np.arange(30.5, 69.6, 1))"
      ],
      "execution_count": 177,
      "outputs": [
        {
          "output_type": "execute_result",
          "data": {
            "text/plain": [
              "array([[<matplotlib.axes._subplots.AxesSubplot object at 0x7f339da1a5d0>]],\n",
              "      dtype=object)"
            ]
          },
          "metadata": {
            "tags": []
          },
          "execution_count": 177
        },
        {
          "output_type": "display_data",
          "data": {
            "image/png": "[encoded data removed]",
            "text/plain": [
              "<Figure size 432x288 with 1 Axes>"
            ]
          },
          "metadata": {
            "tags": [],
            "needs_background": "light"
          }
        }
      ]
    },
    {
      "cell_type": "code",
      "metadata": {
        "colab": {
          "base_uri": "https://localhost:8080/"
        },
        "id": "rN4IxU4FQ3rR",
        "outputId": "098ec6eb-b864-4311-b276-e02826b3ddbc"
      },
      "source": [
        "heads = np.array([])\n",
        "\n",
        "num_repetitions = 10000\n",
        "\n",
        "for i in np.arange(num_repetitions):\n",
        "    outcomes = np.random.choice(coin, 100)\n",
        "    heads = np.append(heads, np.count_nonzero(outcomes == 'Heads'))\n",
        "\n",
        "heads"
      ],
      "execution_count": 182,
      "outputs": [
        {
          "output_type": "execute_result",
          "data": {
            "text/plain": [
              "array([50., 44., 46., ..., 50., 41., 51.])"
            ]
          },
          "metadata": {
            "tags": []
          },
          "execution_count": 182
        }
      ]
    },
    {
      "cell_type": "markdown",
      "metadata": {
        "id": "uLGFrpRkRDsY"
      },
      "source": [
        " Moves in Monopoly"
      ]
    },
    {
      "cell_type": "code",
      "metadata": {
        "colab": {
          "base_uri": "https://localhost:8080/"
        },
        "id": "CsfdGE-lRGDX",
        "outputId": "dc1ecb6b-a446-4b55-a44b-3d237cb574ef"
      },
      "source": [
        "die = np.arange(1, 7)\n",
        "sum(np.random.choice(die, 2))"
      ],
      "execution_count": 183,
      "outputs": [
        {
          "output_type": "execute_result",
          "data": {
            "text/plain": [
              "5"
            ]
          },
          "metadata": {
            "tags": []
          },
          "execution_count": 183
        }
      ]
    },
    {
      "cell_type": "code",
      "metadata": {
        "id": "VmBfYVmiRJM4"
      },
      "source": [
        "moves = np.array([])\n",
        "\n",
        "num_repetitions = 10000\n",
        "\n",
        "for i in np.arange(num_repetitions):\n",
        "    one_move = sum(np.random.choice(die, 2))\n",
        "    moves = np.append(moves, one_move)"
      ],
      "execution_count": 184,
      "outputs": []
    },
    {
      "cell_type": "code",
      "metadata": {
        "id": "XhavegupRkH4"
      },
      "source": [
        "from datascience import Table"
      ],
      "execution_count": 186,
      "outputs": []
    },
    {
      "cell_type": "code",
      "metadata": {
        "colab": {
          "base_uri": "https://localhost:8080/",
          "height": 284
        },
        "id": "k47pFPOgRPJO",
        "outputId": "7000c736-6924-4731-a9e2-1169fa6b5ab4"
      },
      "source": [
        "results = Table().with_columns(\n",
        "    'Repetition', np.arange(1, num_repetitions + 1),\n",
        "    'Sum of Two Rolls', moves\n",
        ")\n",
        "\n",
        "results.hist('Sum of Two Rolls', bins = np.arange(1.5, 12.6, 1))"
      ],
      "execution_count": 187,
      "outputs": [
        {
          "output_type": "display_data",
          "data": {
            "image/png": "[encoded data removed]",
            "text/plain": [
              "<Figure size 432x288 with 1 Axes>"
            ]
          },
          "metadata": {
            "tags": [],
            "needs_background": "light"
          }
        }
      ]
    },
    {
      "cell_type": "markdown",
      "metadata": {
        "id": "fn89GW7YRw0c"
      },
      "source": [
        "The Monty Hall Problem"
      ]
    },
    {
      "cell_type": "code",
      "metadata": {
        "id": "cuP7e5R4Rx0K"
      },
      "source": [
        "goats = np.array(['first goat', 'second goat'])"
      ],
      "execution_count": 189,
      "outputs": []
    },
    {
      "cell_type": "code",
      "metadata": {
        "id": "ot7YpJdRR5Di"
      },
      "source": [
        "def other_goat(x):\n",
        "    if x == 'first goat':\n",
        "        return 'second goat'\n",
        "    elif x == 'second goat':\n",
        "        return 'first goat'"
      ],
      "execution_count": 192,
      "outputs": []
    },
    {
      "cell_type": "code",
      "metadata": {
        "colab": {
          "base_uri": "https://localhost:8080/"
        },
        "id": "vCcLnHGUR64L",
        "outputId": "0aae9240-ba39-4384-9dd9-22759f233824"
      },
      "source": [
        "other_goat('first goat'), other_goat('second goat'), other_goat('watermelon')"
      ],
      "execution_count": 210,
      "outputs": [
        {
          "output_type": "execute_result",
          "data": {
            "text/plain": [
              "('second goat', 'first goat', None)"
            ]
          },
          "metadata": {
            "tags": []
          },
          "execution_count": 210
        }
      ]
    },
    {
      "cell_type": "code",
      "metadata": {
        "id": "_tiVEsB8R-8U"
      },
      "source": [
        "hidden_behind_doors = np.array(['car', 'first goat', 'second goat'])"
      ],
      "execution_count": 212,
      "outputs": []
    },
    {
      "cell_type": "code",
      "metadata": {
        "id": "r-ZvUNRkSHDV"
      },
      "source": [
        "def monty_hall_game():\n",
        "    \"\"\"Return \n",
        "    [contestant's guess, what Monty reveals, what remains behind the other door]\"\"\"\n",
        "    \n",
        "    contestant_guess = np.random.choice(hidden_behind_doors)\n",
        "    \n",
        "    if contestant_guess == 'first goat':\n",
        "        return [contestant_guess, 'second goat', 'car']\n",
        "    \n",
        "    if contestant_guess == 'second goat':\n",
        "        return [contestant_guess, 'first goat', 'car']\n",
        "    \n",
        "    if contestant_guess == 'car':\n",
        "        revealed = np.random.choice(goats)\n",
        "        return [contestant_guess, revealed, other_goat(revealed)]"
      ],
      "execution_count": 196,
      "outputs": []
    },
    {
      "cell_type": "code",
      "metadata": {
        "colab": {
          "base_uri": "https://localhost:8080/"
        },
        "id": "YFswrMKvSDEe",
        "outputId": "9d901886-7208-417a-bc8b-619223469442"
      },
      "source": [
        "monty_hall_game()"
      ],
      "execution_count": 213,
      "outputs": [
        {
          "output_type": "execute_result",
          "data": {
            "text/plain": [
              "['second goat', 'first goat', 'car']"
            ]
          },
          "metadata": {
            "tags": []
          },
          "execution_count": 213
        }
      ]
    },
    {
      "cell_type": "code",
      "metadata": {
        "id": "BJoxnHR0SND_"
      },
      "source": [
        "games = Table(['Guess', 'Revealed', 'Remaining'])"
      ],
      "execution_count": 214,
      "outputs": []
    },
    {
      "cell_type": "code",
      "metadata": {
        "id": "5-JGhnijSPUb"
      },
      "source": [
        "# Play the game 10000 times and \n",
        "# record the results in the table games\n",
        "\n",
        "for i in np.arange(10000):\n",
        "    games.append(monty_hall_game())"
      ],
      "execution_count": 215,
      "outputs": []
    },
    {
      "cell_type": "code",
      "metadata": {
        "colab": {
          "base_uri": "https://localhost:8080/",
          "height": 142
        },
        "id": "blLlYYIoST1Z",
        "outputId": "dc571eac-9e90-4688-eb7b-a3a0904e6240"
      },
      "source": [
        "original_choice = games.group('Guess')\n",
        "original_choice"
      ],
      "execution_count": 216,
      "outputs": [
        {
          "output_type": "execute_result",
          "data": {
            "text/html": [
              "<table border=\"1\" class=\"dataframe\">\n",
              "    <thead>\n",
              "        <tr>\n",
              "            <th>Guess</th> <th>count</th>\n",
              "        </tr>\n",
              "    </thead>\n",
              "    <tbody>\n",
              "        <tr>\n",
              "            <td>car        </td> <td>3326 </td>\n",
              "        </tr>\n",
              "        <tr>\n",
              "            <td>first goat </td> <td>3446 </td>\n",
              "        </tr>\n",
              "        <tr>\n",
              "            <td>second goat</td> <td>3228 </td>\n",
              "        </tr>\n",
              "    </tbody>\n",
              "</table>"
            ],
            "text/plain": [
              "Guess       | count\n",
              "car         | 3326\n",
              "first goat  | 3446\n",
              "second goat | 3228"
            ]
          },
          "metadata": {
            "tags": []
          },
          "execution_count": 216
        }
      ]
    },
    {
      "cell_type": "code",
      "metadata": {
        "colab": {
          "base_uri": "https://localhost:8080/",
          "height": 142
        },
        "id": "w9V6jVDUST8f",
        "outputId": "4bcf985b-560e-4b68-c4d5-f8c8adfc8aed"
      },
      "source": [
        "remaining_door = games.group('Remaining')\n",
        "remaining_door"
      ],
      "execution_count": 218,
      "outputs": [
        {
          "output_type": "execute_result",
          "data": {
            "text/html": [
              "<table border=\"1\" class=\"dataframe\">\n",
              "    <thead>\n",
              "        <tr>\n",
              "            <th>Remaining</th> <th>count</th>\n",
              "        </tr>\n",
              "    </thead>\n",
              "    <tbody>\n",
              "        <tr>\n",
              "            <td>car        </td> <td>6674 </td>\n",
              "        </tr>\n",
              "        <tr>\n",
              "            <td>first goat </td> <td>1702 </td>\n",
              "        </tr>\n",
              "        <tr>\n",
              "            <td>second goat</td> <td>1624 </td>\n",
              "        </tr>\n",
              "    </tbody>\n",
              "</table>"
            ],
            "text/plain": [
              "Remaining   | count\n",
              "car         | 6674\n",
              "first goat  | 1702\n",
              "second goat | 1624"
            ]
          },
          "metadata": {
            "tags": []
          },
          "execution_count": 218
        }
      ]
    },
    {
      "cell_type": "code",
      "metadata": {
        "colab": {
          "base_uri": "https://localhost:8080/",
          "height": 142
        },
        "id": "T-PRRbcWST_U",
        "outputId": "2e12fdb8-e93b-4541-ae99-ca34beb939bc"
      },
      "source": [
        "joined = original_choice.join('Guess', remaining_door, 'Remaining')\n",
        "combined = joined.relabeled(0, 'Item').relabeled(1, 'Original Door').relabeled(2, 'Remaining Door')\n",
        "combined"
      ],
      "execution_count": 219,
      "outputs": [
        {
          "output_type": "execute_result",
          "data": {
            "text/html": [
              "<table border=\"1\" class=\"dataframe\">\n",
              "    <thead>\n",
              "        <tr>\n",
              "            <th>Item</th> <th>Original Door</th> <th>Remaining Door</th>\n",
              "        </tr>\n",
              "    </thead>\n",
              "    <tbody>\n",
              "        <tr>\n",
              "            <td>car        </td> <td>3326         </td> <td>6674          </td>\n",
              "        </tr>\n",
              "        <tr>\n",
              "            <td>first goat </td> <td>3446         </td> <td>1702          </td>\n",
              "        </tr>\n",
              "        <tr>\n",
              "            <td>second goat</td> <td>3228         </td> <td>1624          </td>\n",
              "        </tr>\n",
              "    </tbody>\n",
              "</table>"
            ],
            "text/plain": [
              "Item        | Original Door | Remaining Door\n",
              "car         | 3326          | 6674\n",
              "first goat  | 3446          | 1702\n",
              "second goat | 3228          | 1624"
            ]
          },
          "metadata": {
            "tags": []
          },
          "execution_count": 219
        }
      ]
    },
    {
      "cell_type": "code",
      "metadata": {
        "colab": {
          "base_uri": "https://localhost:8080/",
          "height": 265
        },
        "id": "O1eSnlELSXxH",
        "outputId": "c1f1a020-b5cd-42df-fcb9-2683e16b8a95"
      },
      "source": [
        "combined.barh(0)"
      ],
      "execution_count": 220,
      "outputs": [
        {
          "output_type": "display_data",
          "data": {
            "image/png": "[encoded data removed]",
            "text/plain": [
              "<Figure size 432x288 with 1 Axes>"
            ]
          },
          "metadata": {
            "tags": [],
            "needs_background": "light"
          }
        }
      ]
    }
  ]
}